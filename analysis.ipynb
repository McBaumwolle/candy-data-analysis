{
 "cells": [
  {
   "cell_type": "code",
   "execution_count": 6,
   "metadata": {},
   "outputs": [
    {
     "name": "stdout",
     "output_type": "stream",
     "text": [
      "                chocolate  fruity  caramel  peanutyalmondy  nougat  \\\n",
      "competitorname                                                       \n",
      "100 Grand               1       0        1               0       0   \n",
      "3 Musketeers            1       0        0               0       1   \n",
      "One dime                0       0        0               0       0   \n",
      "One quarter             0       0        0               0       0   \n",
      "Air Heads               0       1        0               0       0   \n",
      "\n",
      "                crispedricewafer  hard  bar  pluribus  sugarpercent  \\\n",
      "competitorname                                                        \n",
      "100 Grand                      1     0    1         0         0.732   \n",
      "3 Musketeers                   0     0    1         0         0.604   \n",
      "One dime                       0     0    0         0         0.011   \n",
      "One quarter                    0     0    0         0         0.011   \n",
      "Air Heads                      0     0    0         0         0.906   \n",
      "\n",
      "                pricepercent  winpercent  \n",
      "competitorname                            \n",
      "100 Grand              0.860   66.971725  \n",
      "3 Musketeers           0.511   67.602936  \n",
      "One dime               0.116   32.261086  \n",
      "One quarter            0.511   46.116505  \n",
      "Air Heads              0.511   52.341465  \n",
      "<class 'pandas.core.frame.DataFrame'>\n",
      "Index: 85 entries, 100 Grand to Whoppers\n",
      "Data columns (total 12 columns):\n",
      " #   Column            Non-Null Count  Dtype  \n",
      "---  ------            --------------  -----  \n",
      " 0   chocolate         85 non-null     int64  \n",
      " 1   fruity            85 non-null     int64  \n",
      " 2   caramel           85 non-null     int64  \n",
      " 3   peanutyalmondy    85 non-null     int64  \n",
      " 4   nougat            85 non-null     int64  \n",
      " 5   crispedricewafer  85 non-null     int64  \n",
      " 6   hard              85 non-null     int64  \n",
      " 7   bar               85 non-null     int64  \n",
      " 8   pluribus          85 non-null     int64  \n",
      " 9   sugarpercent      85 non-null     float64\n",
      " 10  pricepercent      85 non-null     float64\n",
      " 11  winpercent        85 non-null     float64\n",
      "dtypes: float64(3), int64(9)\n",
      "memory usage: 8.6+ KB\n",
      "None\n"
     ]
    }
   ],
   "source": [
    "import pandas as pd\n",
    "\n",
    "# load dataset\n",
    "url = \"https://raw.githubusercontent.com/fivethirtyeight/data/master/candy-power-ranking/candy-data.csv\"\n",
    "df = pd.read_csv(url, index_col=0)\n",
    "\n",
    "# saved data also in folder to look at\n",
    "\n",
    "# show data info\n",
    "print(df.head())\n",
    "print(df.info())"
   ]
  },
  {
   "cell_type": "code",
   "execution_count": 8,
   "metadata": {},
   "outputs": [
    {
     "name": "stdout",
     "output_type": "stream",
     "text": [
      "winpercent          1.000000\n",
      "chocolate           0.636517\n",
      "bar                 0.429929\n",
      "peanutyalmondy      0.406192\n",
      "pricepercent        0.345325\n",
      "crispedricewafer    0.324680\n",
      "sugarpercent        0.229151\n",
      "caramel             0.213416\n",
      "nougat              0.199375\n",
      "pluribus           -0.247448\n",
      "hard               -0.310382\n",
      "fruity             -0.380938\n",
      "Name: winpercent, dtype: float64\n"
     ]
    }
   ],
   "source": [
    "# Korrelationsmatrix berechnen\n",
    "correlation_matrix = df.corr()\n",
    "\n",
    "# Korrelationen mit der Beliebtheitsspalte sortieren\n",
    "popularities = correlation_matrix['winpercent'].sort_values(ascending=False)\n",
    "\n",
    "print(popularities)"
   ]
  }
 ],
 "metadata": {
  "kernelspec": {
   "display_name": "Python 3",
   "language": "python",
   "name": "python3"
  },
  "language_info": {
   "codemirror_mode": {
    "name": "ipython",
    "version": 3
   },
   "file_extension": ".py",
   "mimetype": "text/x-python",
   "name": "python",
   "nbconvert_exporter": "python",
   "pygments_lexer": "ipython3",
   "version": "3.11.3"
  },
  "orig_nbformat": 4
 },
 "nbformat": 4,
 "nbformat_minor": 2
}
